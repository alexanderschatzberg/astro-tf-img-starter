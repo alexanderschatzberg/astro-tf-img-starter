{
 "cells": [
  {
   "cell_type": "code",
   "execution_count": 1,
   "metadata": {},
   "outputs": [],
   "source": [
    "import tensorflow as tf \n",
    "import keras \n",
    "from keras import layers \n",
    "import pandas as pd \n",
    "import numpy as np "
   ]
  },
  {
   "cell_type": "code",
   "execution_count": 2,
   "metadata": {},
   "outputs": [],
   "source": [
    "# Size of your image\n",
    "x = 1024\n",
    "y = 1024\n",
    "ch = 1 # Number of channels (g, r, i, z, etc)"
   ]
  },
  {
   "cell_type": "code",
   "execution_count": 3,
   "metadata": {},
   "outputs": [],
   "source": [
    "im_input = keras.Input(shape=(x, y, ch,))\n",
    "\n",
    "# This is kinda the most basic approach you can take. \n",
    "# You'll probably want to try something w/ a CNN in the final project, but don't prematurely optimize. \n",
    "# https://www.geeksforgeeks.org/introduction-convolution-neural-network/#\n",
    "dense = layers.Dense(512, activation=\"relu\")(im_input)\n",
    "dense = layers.Dense(64, activation=\"relu\")(dense)\n",
    "output = layers.Dense(1, activation=\"sigmoid\")(dense)\n",
    "\n",
    "model = keras.Model(inputs=im_input, outputs=output, name = \"simple v1\")"
   ]
  }
 ],
 "metadata": {
  "kernelspec": {
   "display_name": "tf-env",
   "language": "python",
   "name": "python3"
  },
  "language_info": {
   "codemirror_mode": {
    "name": "ipython",
    "version": 3
   },
   "file_extension": ".py",
   "mimetype": "text/x-python",
   "name": "python",
   "nbconvert_exporter": "python",
   "pygments_lexer": "ipython3",
   "version": "3.12.5"
  }
 },
 "nbformat": 4,
 "nbformat_minor": 2
}
